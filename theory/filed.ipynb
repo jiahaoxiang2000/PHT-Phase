{
 "cells": [
  {
   "cell_type": "markdown",
   "metadata": {},
   "source": [
    "| Symbol    | Description                                                                 |\n",
    "| --------- | --------------------------------------------------------------------------- |\n",
    "| $ \\alpha $         | Phase variable                                                               |\n",
    "| $ \\ell $           | Normalized length scale parameter                                            |\n",
    "| $ \\Gamma_\\ell $    | Total crack length                                                           |\n",
    "| $ \\gamma $         | Crack surface density function                                               |\n",
    "| $ \\Psi $           | Energy storage density function (strain energy density function)             |\n",
    "| $ \\varepsilon $    | Strain tensor                                                                |\n",
    "| $ \\mathbf{u} $     | Displacement vector                                                          |\n",
    "| $ \\sigma $         | Cauchy stress tensor                                                         |\n",
    "| $ \\varepsilon^{+} $       | Tensile part of the strain tensor (positive part)                             |\n",
    "| $ \\varepsilon^{-} $       | Compressive part of the strain tensor (negative part)                         |\n",
    "| $ k $              | Bulk modulus                                                                 |\n",
    "| $ \\mu $            | Shear modulus                                                                |\n",
    "| $ \\lambda $        | Elastic bulk modulus                                                         |\n",
    "| $ g_c $            | Fracture toughness                                                           |\n",
    "| $ E $              | Total energy storage function                                                |\n",
    "| $ \\mathbf{L} $     | Fourth-order elastic stiffness tensor                                        |\n",
    "| $ \\eta $           | Damage dissipation function                                                  |\n",
    "| $ W_c $            | Dissipated work function                                                     |\n",
    "| $ W $              | Total crack energy function                                                  |\n",
    "| $ \\mathcal{H} $    | Strain history function                                                      |\n",
    "| $ \\mathbf{P}^{\\pm} $   | Fourth-order projection tensor $ \\varepsilon^{+} = \\mathbf{P}^{+}:\\varepsilon, \\varepsilon^{-} = \\mathbf{P}^{-}:\\varepsilon $ |\n",
    "| $ K $              | stress intensity factor |\n"
   ]
  },
  {
   "cell_type": "markdown",
   "metadata": {},
   "source": [
    "$$\n",
    "\\frac{da}{dN}=C(\\Delta K)^m \\tag{1.2}\n",
    "$$\n",
    "\n",
    "$a$ is crack length, $N$ is number of cycles, $C$ and $m$ are material constants, and $\\Delta K$ is the stress intensity factor range."
   ]
  }
 ],
 "metadata": {
  "kernelspec": {
   "display_name": "misc",
   "language": "python",
   "name": "python3"
  },
  "language_info": {
   "name": "python",
   "version": "3.11.9"
  }
 },
 "nbformat": 4,
 "nbformat_minor": 2
}
